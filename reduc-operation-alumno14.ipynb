{
 "cells": [
  {
   "cell_type": "markdown",
   "metadata": {},
   "source": [
    "### Reduction operation: the sum of the numbers in the range [0, a)"
   ]
  },
  {
   "cell_type": "markdown",
   "metadata": {},
   "source": [
    "FUNCIÓN EJEMPLO"
   ]
  },
  {
   "cell_type": "code",
   "execution_count": 3,
   "metadata": {},
   "outputs": [
    {
     "name": "stdout",
     "output_type": "stream",
     "text": [
      "Time taken by reduction operation: 0.018224477767944336 seconds\n",
      "16.6 ms ± 177 µs per loop (mean ± std. dev. of 2 runs, 100 loops each)\n",
      "\n",
      " \t Computing the sum of numbers in the range [0, value): 499999500000\n",
      "\n"
     ]
    }
   ],
   "source": [
    "import time\n",
    "\n",
    "def reduc_operation(a):\n",
    "    \"\"\"Compute the sum of the numbers in the range [0, a).\"\"\"\n",
    "    x = 0\n",
    "    for i in range(a):\n",
    "        x += i\n",
    "    return x\n",
    "\n",
    "# Secuencial\n",
    "\n",
    "value = 1000000\n",
    "\n",
    "initialTime = time.time()\n",
    "suma = reduc_operation(value)\n",
    "finalTime = time.time()\n",
    "\n",
    "print(\"Time taken by reduction operation:\", (finalTime - initialTime), \"seconds\")\n",
    "\n",
    "# Utilizando las operaciones mágicas de ipython\n",
    "%timeit -r 2 reduc_operation(value)\n",
    "\n",
    "print(f\"\\n \\t Computing the sum of numbers in the range [0, value): {suma}\\n\")"
   ]
  },
  {
   "cell_type": "markdown",
   "metadata": {},
   "source": [
    "3.2 A)"
   ]
  },
  {
   "cell_type": "code",
   "execution_count": 2,
   "metadata": {},
   "outputs": [
    {
     "name": "stdout",
     "output_type": "stream",
     "text": [
      "Método a) Usando bucle for:\n",
      "Suma: 499999500000, Tiempo tomado: 0.4565746784210205 segundos\n",
      "\n",
      "Método b) Usando función sum:\n",
      "Suma: 499999500000, Tiempo tomado: 0.02854609489440918 segundos\n",
      "\n",
      "29.2 ms ± 181 µs per loop (mean ± std. dev. of 2 runs, 10 loops each)\n"
     ]
    }
   ],
   "source": [
    "import time\n",
    "\n",
    "# Crear la lista de números del rango [0, 10**6)\n",
    "value = 10**6\n",
    "numeros = list(range(value))\n",
    "\n",
    "# Método a) Usando un bucle for\n",
    "initialTime_for = time.time()\n",
    "suma_for = 0\n",
    "for numero in numeros:\n",
    "    suma_for += numero\n",
    "finalTime_for = time.time()\n",
    "\n",
    "# Método b) Usando la función sum\n",
    "initialTime_sum = time.time()\n",
    "suma_sum = sum(numeros)\n",
    "finalTime_sum = time.time()\n",
    "\n",
    "# Mostrar resultados\n",
    "print(\"Método a) Usando bucle for:\")\n",
    "print(f\"Suma: {suma_for}, Tiempo tomado: {finalTime_for - initialTime_for} segundos\\n\")\n",
    "\n",
    "print(\"Método b) Usando función sum:\")\n",
    "print(f\"Suma: {suma_sum}, Tiempo tomado: {finalTime_sum - initialTime_sum} segundos\\n\")\n",
    "\n",
    "\n",
    "# Usar %timeit para medir tiempos en IPython (si estás en un entorno compatible)\n",
    "try:\n",
    "    get_ipython().run_line_magic('timeit', '-r 2 sum(numeros)')\n",
    "except NameError:\n",
    "    print(\"Las operaciones mágicas de %timeit sólo funcionan en entornos IPython.\")"
   ]
  },
  {
   "cell_type": "markdown",
   "metadata": {},
   "source": [
    "3.2 B)"
   ]
  },
  {
   "cell_type": "code",
   "execution_count": 3,
   "metadata": {},
   "outputs": [
    {
     "name": "stdout",
     "output_type": "stream",
     "text": [
      "Tiempo con bucle for (array de NumPy): 0.839921 segundos\n",
      "Tiempo con numpy.sum(): 0.002087 segundos\n",
      "\n",
      "Suma total: 499999500000\n"
     ]
    }
   ],
   "source": [
    "import time\n",
    "import numpy as np\n",
    "\n",
    "# Crear la lista de números\n",
    "value = 10**6\n",
    "lista = list(range(value))\n",
    "\n",
    "# Convertir la lista a un array de NumPy\n",
    "array = np.array(lista)\n",
    "\n",
    "# Sumar los elementos usando un bucle for\n",
    "start_time = time.time()\n",
    "suma_for = 0\n",
    "for elemento in array:\n",
    "    suma_for += elemento\n",
    "end_time = time.time()\n",
    "print(f\"Tiempo con bucle for (array de NumPy): {end_time - start_time:.6f} segundos\")\n",
    "\n",
    "# Sumar los elementos usando numpy.sum()\n",
    "start_time = time.time()\n",
    "suma_numpy = np.sum(array)\n",
    "end_time = time.time()\n",
    "print(f\"Tiempo con numpy.sum(): {end_time - start_time:.6f} segundos\")\n",
    "\n",
    "# Verificar que ambos resultados son iguales\n",
    "assert suma_for == suma_numpy, \"Los resultados de las sumas no coinciden\"\n",
    "print(f\"\\nSuma total: {suma_numpy}\")"
   ]
  },
  {
   "cell_type": "markdown",
   "metadata": {},
   "source": [
    "3.2 C)"
   ]
  },
  {
   "cell_type": "markdown",
   "metadata": {},
   "source": [
    "Los resultados muestran que:\n",
    "\n",
    "1. El código original: \n",
    "es notablemente rápido debido a su implementación optimizada en Python, con tiempos cercanos a 0.018 segundos.\n",
    "\n",
    "2. El uso de listas:\n",
    "El bucle for resulta considerablemente más lento (0.457 segundos) debido a la sobrecarga de Python al iterar elemento por elemento.\n",
    "La función sum es significativamente más eficiente (0.029 segundos), ya que está optimizada para operaciones de reducción en listas.\n",
    "\n",
    "3. El uso de NumPy:\n",
    "El bucle for es aún más lento (0.84 segundos) porque la iteración en arrays de NumPy introduce una mayor sobrecarga que en listas nativas.\n",
    "La función numpy.sum es increíblemente rápida (0.0021 segundos), ya que realiza operaciones directamente en código compilado C, aprovechando instrucciones de bajo nivel y optimizaciones vectoriales."
   ]
  }
 ],
 "metadata": {
  "kernelspec": {
   "display_name": "Python 3",
   "language": "python",
   "name": "python3"
  },
  "language_info": {
   "codemirror_mode": {
    "name": "ipython",
    "version": 3
   },
   "file_extension": ".py",
   "mimetype": "text/x-python",
   "name": "python",
   "nbconvert_exporter": "python",
   "pygments_lexer": "ipython3",
   "version": "3.8.5"
  }
 },
 "nbformat": 4,
 "nbformat_minor": 5
}
