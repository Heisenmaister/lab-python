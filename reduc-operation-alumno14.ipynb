{
 "cells": [
  {
   "cell_type": "markdown",
   "id": "c5a075d3",
   "metadata": {},
   "source": [
    "### Reduction operation: the sum of the numbers in the range [0, a)"
   ]
  },
  {
   "cell_type": "markdown",
   "id": "7464b1e3",
   "metadata": {},
   "source": [
    "FUNCIÓN EJEMPLO"
   ]
  },
  {
   "cell_type": "code",
   "execution_count": 3,
   "id": "ea279bb5",
   "metadata": {},
   "outputs": [
    {
     "name": "stdout",
     "output_type": "stream",
     "text": [
      "Time taken by reduction operation: 0.018224477767944336 seconds\n",
      "16.6 ms ± 177 µs per loop (mean ± std. dev. of 2 runs, 100 loops each)\n",
      "\n",
      " \t Computing the sum of numbers in the range [0, value): 499999500000\n",
      "\n"
     ]
    }
   ],
   "source": [
    "import time\n",
    "\n",
    "def reduc_operation(a):\n",
    "    \"\"\"Compute the sum of the numbers in the range [0, a).\"\"\"\n",
    "    x = 0\n",
    "    for i in range(a):\n",
    "        x += i\n",
    "    return x\n",
    "\n",
    "# Secuencial\n",
    "\n",
    "value = 1000000\n",
    "\n",
    "initialTime = time.time()\n",
    "suma = reduc_operation(value)\n",
    "finalTime = time.time()\n",
    "\n",
    "print(\"Time taken by reduction operation:\", (finalTime - initialTime), \"seconds\")\n",
    "\n",
    "# Utilizando las operaciones mágicas de ipython\n",
    "%timeit -r 2 reduc_operation(value)\n",
    "\n",
    "print(f\"\\n \\t Computing the sum of numbers in the range [0, value): {suma}\\n\")"
   ]
  },
  {
   "cell_type": "markdown",
   "id": "496ac0d0",
   "metadata": {},
   "source": [
    "3.2 A)"
   ]
  },
  {
   "cell_type": "code",
   "execution_count": 14,
   "id": "04e976f1",
   "metadata": {},
   "outputs": [
    {
     "name": "stdout",
     "output_type": "stream",
     "text": [
      "Método a) Usando bucle for:\n",
      "Suma: 499999500000, Tiempo tomado: 0.47300171852111816 segundos\n",
      "\n",
      "Método b) Usando función sum:\n",
      "Suma: 499999500000, Tiempo tomado: 0.03226447105407715 segundos\n",
      "\n",
      "30 ms ± 70.9 µs per loop (mean ± std. dev. of 2 runs, 10 loops each)\n"
     ]
    }
   ],
   "source": [
    "import time\n",
    "\n",
    "# Crear la lista de números del rango [0, 10**6)\n",
    "value = 10**6\n",
    "numeros = list(range(value))\n",
    "\n",
    "# Método a) Usando un bucle for\n",
    "initialTime_for = time.time()\n",
    "suma_for = 0\n",
    "for numero in numeros:\n",
    "    suma_for += numero\n",
    "finalTime_for = time.time()\n",
    "\n",
    "# Método b) Usando la función sum\n",
    "initialTime_sum = time.time()\n",
    "suma_sum = sum(numeros)\n",
    "finalTime_sum = time.time()\n",
    "\n",
    "# Mostrar resultados\n",
    "print(\"Método a) Usando bucle for:\")\n",
    "print(f\"Suma: {suma_for}, Tiempo tomado: {finalTime_for - initialTime_for} segundos\\n\")\n",
    "\n",
    "print(\"Método b) Usando función sum:\")\n",
    "print(f\"Suma: {suma_sum}, Tiempo tomado: {finalTime_sum - initialTime_sum} segundos\\n\")\n",
    "\n",
    "\n",
    "# Usar %timeit para medir tiempos en IPython (si estás en un entorno compatible)\n",
    "try:\n",
    "    get_ipython().run_line_magic('timeit', '-r 2 sum(numeros)')\n",
    "except NameError:\n",
    "    print(\"Las operaciones mágicas de %timeit sólo funcionan en entornos IPython.\")"
   ]
  },
  {
   "cell_type": "markdown",
   "id": "b264813d",
   "metadata": {},
   "source": [
    "3.2 B)"
   ]
  },
  {
   "cell_type": "code",
   "execution_count": 16,
   "id": "ec73f286",
   "metadata": {},
   "outputs": [
    {
     "name": "stdout",
     "output_type": "stream",
     "text": [
      "Tiempo con bucle for (array de NumPy): 0.660985 segundos\n",
      "Tiempo con numpy.sum(): 0.001392 segundos\n",
      "\n",
      "Suma total: 499999500000\n"
     ]
    }
   ],
   "source": [
    "import time\n",
    "import numpy as np\n",
    "\n",
    "def sumar_con_bucle_for(array):\n",
    "    \"\"\"Sumar los elementos de un array utilizando un bucle for.\"\"\"\n",
    "    suma = 0\n",
    "    for elemento in array:\n",
    "        suma += elemento\n",
    "    return suma\n",
    "\n",
    "def sumar_con_numpy_sum(array):\n",
    "    \"\"\"Sumar los elementos de un array utilizando numpy.sum()\"\"\"\n",
    "    return np.sum(array)\n",
    "\n",
    "def medir_tiempo(funcion, *args):\n",
    "    \"\"\"Medir el tiempo que tarda una función en ejecutarse.\"\"\"\n",
    "    start_time = time.time()\n",
    "    resultado = funcion(*args)\n",
    "    end_time = time.time()\n",
    "    tiempo = end_time - start_time\n",
    "    return resultado, tiempo\n",
    "\n",
    "def main():\n",
    "    value = 10**6\n",
    "\n",
    "    # Crear la lista y convertirla a array\n",
    "    lista = list(range(value))\n",
    "    array = np.array(lista)\n",
    "\n",
    "    # Sumar los elementos usando un bucle for\n",
    "    suma_for, tiempo_for = medir_tiempo(sumar_con_bucle_for, array)\n",
    "    print(f\"Tiempo con bucle for (array de NumPy): {tiempo_for:.6f} segundos\")\n",
    "\n",
    "    # Sumar los elementos usando numpy.sum()\n",
    "    suma_numpy, tiempo_numpy = medir_tiempo(sumar_con_numpy_sum, array)\n",
    "    print(f\"Tiempo con numpy.sum(): {tiempo_numpy:.6f} segundos\")\n",
    "\n",
    "    # Verificar que ambos resultados son iguales\n",
    "    assert suma_for == suma_numpy, \"Los resultados de las sumas no coinciden\"\n",
    "    print(f\"\\nSuma total: {suma_numpy}\")\n",
    "\n",
    "if __name__ == \"__main__\":\n",
    "    main()"
   ]
  },
  {
   "cell_type": "markdown",
   "id": "78734943",
   "metadata": {},
   "source": [
    "3.2 C)"
   ]
  },
  {
   "cell_type": "markdown",
   "id": "9f8d3047",
   "metadata": {},
   "source": [
    "Los resultados muestran que:\n",
    "\n",
    "1. El código original: \n",
    "es notablemente rápido debido a su implementación optimizada en Python, con tiempos cercanos a 0.018 segundos.\n",
    "\n",
    "2. El uso de listas:\n",
    "El bucle for resulta considerablemente más lento (0.457 segundos) debido a la sobrecarga de Python al iterar elemento por elemento.\n",
    "La función sum es significativamente más eficiente (0.029 segundos), ya que está optimizada para operaciones de reducción en listas.\n",
    "\n",
    "3. El uso de NumPy:\n",
    "El bucle for es aún más lento (0.84 segundos) porque la iteración en arrays de NumPy introduce una mayor sobrecarga que en listas nativas.\n",
    "La función numpy.sum es increíblemente rápida (0.0021 segundos), ya que realiza operaciones directamente en código compilado C, aprovechando instrucciones de bajo nivel y optimizaciones vectoriales."
   ]
  },
  {
   "cell_type": "markdown",
   "id": "c320f3a7",
   "metadata": {},
   "source": [
    "3.3 A)"
   ]
  },
  {
   "cell_type": "code",
   "execution_count": 18,
   "id": "89da4390-06fa-428e-86ab-7f514890366a",
   "metadata": {},
   "outputs": [
    {
     "name": "stdout",
     "output_type": "stream",
     "text": [
      "Tiempo con bucle for (array de NumPy): 0.531682 segundos\n",
      "Tiempo con numpy.sum(): 0.440270 segundos\n",
      "\n",
      "Suma total: 499999500000\n"
     ]
    }
   ],
   "source": [
    "import time\n",
    "import numpy as np\n",
    "from numba import njit\n",
    "\n",
    "@njit\n",
    "def sumar_con_bucle_for(array):\n",
    "    \"\"\"Sumar los elementos de un array utilizando un bucle for.\"\"\"\n",
    "    suma = 0\n",
    "    for elemento in array:\n",
    "        suma += elemento\n",
    "    return suma\n",
    "\n",
    "@njit\n",
    "def sumar_con_numpy_sum(array):\n",
    "    \"\"\"Sumar los elementos de un array utilizando numpy.sum()\"\"\"\n",
    "    return np.sum(array)\n",
    "\n",
    "def medir_tiempo(funcion, *args):\n",
    "    \"\"\"Medir el tiempo que tarda una función en ejecutarse.\"\"\"\n",
    "    start_time = time.time()\n",
    "    resultado = funcion(*args)\n",
    "    end_time = time.time()\n",
    "    tiempo = end_time - start_time\n",
    "    return resultado, tiempo\n",
    "\n",
    "def main():\n",
    "    value = 10**6\n",
    "\n",
    "    # Crear la lista y convertirla a array\n",
    "    lista = list(range(value))\n",
    "    array = np.array(lista)\n",
    "\n",
    "    # Sumar los elementos usando un bucle for\n",
    "    suma_for, tiempo_for = medir_tiempo(sumar_con_bucle_for, array)\n",
    "    print(f\"Tiempo con bucle for (array de NumPy): {tiempo_for:.6f} segundos\")\n",
    "\n",
    "    # Sumar los elementos usando numpy.sum()\n",
    "    suma_numpy, tiempo_numpy = medir_tiempo(sumar_con_numpy_sum, array)\n",
    "    print(f\"Tiempo con numpy.sum(): {tiempo_numpy:.6f} segundos\")\n",
    "\n",
    "    # Verificar que ambos resultados son iguales\n",
    "    assert suma_for == suma_numpy, \"Los resultados de las sumas no coinciden\"\n",
    "    print(f\"\\nSuma total: {suma_numpy}\")\n",
    "\n",
    "if __name__ == \"__main__\":\n",
    "    main()"
   ]
  },
  {
   "cell_type": "markdown",
   "id": "21af9472-1abf-45e3-bf74-663a9df60286",
   "metadata": {},
   "source": [
    "3.3 B)"
   ]
  },
  {
   "cell_type": "markdown",
   "id": "4f2461e1-dce5-4c86-9b51-0f10771f32dd",
   "metadata": {},
   "source": [
    "El tiempo con el codigo original implementando Numpy es: \n",
    "1. Con bucle for (array de NumPy): 0.668079 segundos\n",
    "2. Tiempo con numpy.sum(): 0.001438 segundos\n",
    "\n",
    "Con la implementacion de @njit es de:\n",
    "1. Tiempo con bucle for (array de NumPy): 0.498631 segundos\n",
    "2. Tiempo con numpy.sum(): 0.472952 segundos\n",
    "\n",
    "En teoría, la implementación de @njit debería optimizar los tiempos, pero no se da así. Posibles explicaciones:\n",
    "1. numpy.sum() ya está altamente optimizado: numpy está escrito en C y ya tiene implementaciones altamente optimizadas. Como resultado, el uso de Numba en el código que llama a numpy.sum() no necesariamente acelerará más, porque numpy.sum() ya está ejecutándose muy rápido.\n",
    "2. Numba no optimiza bien las funciones de alto nivel de NumPy: Aunque Numba acelera el código que involucra operaciones en bucles, cuando usas funciones de alto nivel como numpy.sum(), Numba no puede mejorar significativamente su rendimiento, ya que estas funciones están optimizadas a un nivel más bajo dentro de numpy.\n",
    "3. El overhead de Python y Numba: Para el caso presente, donde el cálculo es muy simple (solo una suma), el uso de un bucle en Python y su optimización con Numba puede no ser suficientemente beneficioso, ya que el tiempo que tarda Numba en compilar y optimizar puede ser mayor que el tiempo de ejecución del cálculo mismo."
   ]
  },
  {
   "cell_type": "code",
   "execution_count": null,
   "id": "a608b31a-b080-4029-8367-7def6b84a946",
   "metadata": {},
   "outputs": [],
   "source": []
  }
 ],
 "metadata": {
  "kernelspec": {
   "display_name": "Python 3 (ipykernel)",
   "language": "python",
   "name": "python3"
  },
  "language_info": {
   "codemirror_mode": {
    "name": "ipython",
    "version": 3
   },
   "file_extension": ".py",
   "mimetype": "text/x-python",
   "name": "python",
   "nbconvert_exporter": "python",
   "pygments_lexer": "ipython3",
   "version": "3.10.9"
  }
 },
 "nbformat": 4,
 "nbformat_minor": 5
}
